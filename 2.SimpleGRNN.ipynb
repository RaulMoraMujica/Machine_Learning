{
 "cells": [
  {
   "cell_type": "code",
   "execution_count": 1,
   "metadata": {},
   "outputs": [],
   "source": [
    "import numpy as np"
   ]
  },
  {
   "cell_type": "code",
   "execution_count": 2,
   "metadata": {},
   "outputs": [],
   "source": [
    "def GRNN(x_input,X_train,Y_train,sigma):\n",
    "    distances= []\n",
    "    #calculate distances\n",
    "    for i in range(x_input.shape[0]):\n",
    "        d = np.abs(x_input[i] - X_train)\n",
    "        d2 = d * d\n",
    "        distances.append(d2)\n",
    "    distances = np.array(distances)    \n",
    "    \n",
    "    # weights\n",
    "    weights = np.exp(-distances/(2*(sigma)**2))\n",
    "    \n",
    "    #denominator\n",
    "    denominator = np.sum(weights,axis=1)\n",
    "    \n",
    "    #numerator\n",
    "    numerator = np.sum(Y_train * weights,axis=1)\n",
    "    \n",
    "    approx = numerator/denominator\n",
    "    \n",
    "    return approx"
   ]
  },
  {
   "cell_type": "code",
   "execution_count": null,
   "metadata": {},
   "outputs": [],
   "source": []
  }
 ],
 "metadata": {
  "kernelspec": {
   "display_name": "Python 3",
   "language": "python",
   "name": "python3"
  },
  "language_info": {
   "codemirror_mode": {
    "name": "ipython",
    "version": 3
   },
   "file_extension": ".py",
   "mimetype": "text/x-python",
   "name": "python",
   "nbconvert_exporter": "python",
   "pygments_lexer": "ipython3",
   "version": "3.6.5"
  }
 },
 "nbformat": 4,
 "nbformat_minor": 2
}
