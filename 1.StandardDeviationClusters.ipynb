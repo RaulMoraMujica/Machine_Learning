{
 "cells": [
  {
   "cell_type": "code",
   "execution_count": 1,
   "metadata": {},
   "outputs": [],
   "source": [
    "from sklearn.cluster import KMeans\n",
    "import numpy as np\n",
    "import pandas as pd"
   ]
  },
  {
   "cell_type": "markdown",
   "metadata": {},
   "source": [
    "How to get the standard deviation of the clusters of a 1D array."
   ]
  },
  {
   "cell_type": "code",
   "execution_count": 4,
   "metadata": {},
   "outputs": [
    {
     "data": {
      "text/plain": [
       "array([1.41421356, 1.41421356])"
      ]
     },
     "execution_count": 4,
     "metadata": {},
     "output_type": "execute_result"
    }
   ],
   "source": [
    "x=np.array([1,2,3,4,5,6,7,8,9,10])\n",
    "x_r=x.reshape(-1,1)\n",
    "\n",
    "\n",
    "#KMeans Model\n",
    "model = KMeans(n_clusters=2)\n",
    "model.fit(x_r)\n",
    "\n",
    "#Get centroids\n",
    "centroids = model.cluster_centers_.ravel()\n",
    "\n",
    "#Get the std\n",
    "labels = model.labels_\n",
    "d = {'col1': list(x), 'col2':list(labels)}\n",
    "df = pd.DataFrame(data=d)\n",
    "std = np.array(df.groupby('col2').agg('std',ddof=0)).ravel()\n",
    "std"
   ]
  }
 ],
 "metadata": {
  "kernelspec": {
   "display_name": "Python 3",
   "language": "python",
   "name": "python3"
  },
  "language_info": {
   "codemirror_mode": {
    "name": "ipython",
    "version": 3
   },
   "file_extension": ".py",
   "mimetype": "text/x-python",
   "name": "python",
   "nbconvert_exporter": "python",
   "pygments_lexer": "ipython3",
   "version": "3.6.5"
  }
 },
 "nbformat": 4,
 "nbformat_minor": 2
}
